{
 "cells": [
  {
   "cell_type": "code",
   "execution_count": null,
   "metadata": {},
   "outputs": [],
   "source": [
    "import boto3 as bo\n",
    "import datetime "
   ]
  },
  {
   "cell_type": "code",
   "execution_count": null,
   "metadata": {},
   "outputs": [],
   "source": [
    "# Create an S3 client\n",
    "s3 = bo.client('s3')\n",
    "\n",
    "# Bucket name\n",
    "bucket_name = 'rawbovespa'\n",
    "\n",
    "# Folder name (ending with a '/')\n",
    "date_text = '17/03/25'\n",
    "parsed_date = datetime.strptime(date_text, \"%d/%m/%y\")\n",
    "folder_name = 'parsed_date' + '/'\n",
    "\n",
    "# Upload a \"dummy\" file to create the folder\n",
    "s3.put_object(Bucket=bucket_name, Key=folder_name)\n",
    "\n",
    "print(f'Folder \"{folder_name}\" created in bucket \"{bucket_name}\".')"
   ]
  }
 ],
 "metadata": {
  "kernelspec": {
   "display_name": "venv",
   "language": "python",
   "name": "python3"
  },
  "language_info": {
   "codemirror_mode": {
    "name": "ipython",
    "version": 3
   },
   "file_extension": ".py",
   "mimetype": "text/x-python",
   "name": "python",
   "nbconvert_exporter": "python",
   "pygments_lexer": "ipython3",
   "version": "3.13.1"
  }
 },
 "nbformat": 4,
 "nbformat_minor": 2
}
