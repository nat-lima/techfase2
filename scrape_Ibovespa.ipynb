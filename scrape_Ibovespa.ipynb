{
 "cells": [
  {
   "cell_type": "code",
   "execution_count": 37,
   "id": "088be170",
   "metadata": {},
   "outputs": [],
   "source": [
    "import pandas as pd\n",
    "from selenium import webdriver\n",
    "from selenium.webdriver.chrome.service import Service\n",
    "from webdriver_manager.chrome import ChromeDriverManager\n",
    "from selenium.webdriver.chrome.options import Options\n",
    "from selenium.webdriver.common.by import By\n",
    "from selenium.webdriver.support import expected_conditions as EC\n",
    "from selenium.webdriver.support.ui import WebDriverWait\n",
    "import time"
   ]
  },
  {
   "cell_type": "code",
   "execution_count": 38,
   "id": "6e7b381a",
   "metadata": {},
   "outputs": [],
   "source": [
    "driver = webdriver.Chrome(service=Service(ChromeDriverManager().install()))"
   ]
  },
  {
   "cell_type": "code",
   "execution_count": 39,
   "id": "058ca76f",
   "metadata": {},
   "outputs": [],
   "source": [
    "url = 'https://sistemaswebb3-listados.b3.com.br/indexPage/day/IBOV?language=pt-br'\n",
    "driver.get(url)"
   ]
  },
  {
   "cell_type": "code",
   "execution_count": 40,
   "id": "c796dba4",
   "metadata": {},
   "outputs": [
    {
     "name": "stdout",
     "output_type": "stream",
     "text": [
      "Found the container: <selenium.webdriver.remote.webelement.WebElement (session=\"06ab66468a3350d5e2f866b09d21c423\", element=\"f.AF9FCD3F8ED313C773C86BEF55691D73.d.F2A8F1246F1C70BF695BEB2E63626456.e.12\")>\n"
     ]
    }
   ],
   "source": [
    "# Wait for the container to be available\n",
    "container = WebDriverWait(driver, 10).until(\n",
    "    EC.presence_of_element_located((By.ID, \"divContainerIframeB3\"))\n",
    ")\n",
    "print(\"Found the container:\", container)\n"
   ]
  },
  {
   "cell_type": "code",
   "execution_count": 41,
   "id": "33e6d4c8",
   "metadata": {},
   "outputs": [
    {
     "name": "stdout",
     "output_type": "stream",
     "text": [
      "2025-03-17\n"
     ]
    }
   ],
   "source": [
    "from datetime import datetime\n",
    "\n",
    "# Extract the date from the container\n",
    "date_element = container.find_element(By.XPATH, \"//p[contains(text(), 'Carteira Teórica do IBovespa válida para')]\")\n",
    "date_text = date_element.text.split(\"para\")[-1].strip()  # Extracts '17/03/25'\n",
    "\n",
    "# Convert the date to ISO 8601 format (YYYY-MM-DD)\n",
    "parsed_date = datetime.strptime(date_text, \"%d/%m/%y\")  # Parse the date using the original format\n",
    "formatted_date = parsed_date.strftime(\"%Y-%m-%d\")  # Format it to ISO 8601\n",
    "\n",
    "# Now formatted_date contains the string in 'YYYY-MM-DD' format\n",
    "print(formatted_date)"
   ]
  },
  {
   "cell_type": "markdown",
   "id": "8a54201c",
   "metadata": {},
   "source": [
    "*** SCRAPE ONE PAGE"
   ]
  },
  {
   "cell_type": "code",
   "execution_count": 42,
   "id": "34c3f384",
   "metadata": {},
   "outputs": [
    {
     "name": "stdout",
     "output_type": "stream",
     "text": [
      "DataFrame with date column saved as ibovespa_2025-03-17.parquet\n"
     ]
    }
   ],
   "source": [
    "# Locate the table within the container\n",
    "table = container.find_element(By.TAG_NAME, \"table\")\n",
    "rows = table.find_elements(By.TAG_NAME, \"tr\")\n",
    "\n",
    "# Extract header\n",
    "headers = [header.text for header in rows[0].find_elements(By.TAG_NAME, \"th\")]\n",
    "\n",
    "# Extract rows\n",
    "data = []\n",
    "for row in rows[1:]:\n",
    "    cols = row.find_elements(By.TAG_NAME, \"td\")\n",
    "    data.append([col.text for col in cols])\n",
    "\n",
    "# Convert to Pandas DataFrame\n",
    "df = pd.DataFrame(data, columns=headers)\n",
    "\n",
    "# Add the extracted date to the DataFrame as a new column\n",
    "df[\"Date\"] = formatted_date\n",
    "\n",
    "# Save the DataFrame to a Parquet file with the date in the name\n",
    "parquet_file_name = f\"ibovespa_{formatted_date}.parquet\"\n",
    "df.to_parquet(f'data\\\\{parquet_file_name}', engine=\"pyarrow\", index=False)\n",
    "\n",
    "csv_file_name = parquet_file_name.replace(\".parquet\", \".csv\")  # Replace the extension\n",
    "df.to_csv(f'data\\\\{csv_file_name}', index=False, encoding=\"utf-8\")\n",
    "\n",
    "print(f\"DataFrame with date column saved as {parquet_file_name}\")\n"
   ]
  },
  {
   "cell_type": "code",
   "execution_count": 43,
   "id": "ef82fe9a",
   "metadata": {},
   "outputs": [
    {
     "data": {
      "application/vnd.microsoft.datawrangler.viewer.v0+json": {
       "columns": [
        {
         "name": "index",
         "rawType": "int64",
         "type": "integer"
        },
        {
         "name": "Código",
         "rawType": "object",
         "type": "string"
        },
        {
         "name": "Ação",
         "rawType": "object",
         "type": "string"
        },
        {
         "name": "Tipo",
         "rawType": "object",
         "type": "string"
        },
        {
         "name": "Qtde. Teórica",
         "rawType": "object",
         "type": "string"
        },
        {
         "name": "Part. (%)",
         "rawType": "object",
         "type": "string"
        },
        {
         "name": "Date",
         "rawType": "object",
         "type": "string"
        }
       ],
       "conversionMethod": "pd.DataFrame",
       "ref": "b8339e08-8ac5-4e95-9d64-4c1b6f398cee",
       "rows": [
        [
         "0",
         "ALOS3",
         "ALLOS",
         "ON NM",
         "476.976.044",
         "0,439",
         "2025-03-17"
        ],
        [
         "1",
         "ABEV3",
         "AMBEV S/A",
         "ON ED",
         "4.394.835.131",
         "2,867",
         "2025-03-17"
        ],
        [
         "2",
         "ASAI3",
         "ASSAI",
         "ON NM",
         "1.345.832.968",
         "0,491",
         "2025-03-17"
        ],
        [
         "3",
         "AURE3",
         "AUREN",
         "ON NM",
         "323.738.747",
         "0,119",
         "2025-03-17"
        ],
        [
         "4",
         "AMOB3",
         "AUTOMOB",
         "ON NM",
         "533.959.816",
         "0,007",
         "2025-03-17"
        ]
       ],
       "shape": {
        "columns": 6,
        "rows": 5
       }
      },
      "text/html": [
       "<div>\n",
       "<style scoped>\n",
       "    .dataframe tbody tr th:only-of-type {\n",
       "        vertical-align: middle;\n",
       "    }\n",
       "\n",
       "    .dataframe tbody tr th {\n",
       "        vertical-align: top;\n",
       "    }\n",
       "\n",
       "    .dataframe thead th {\n",
       "        text-align: right;\n",
       "    }\n",
       "</style>\n",
       "<table border=\"1\" class=\"dataframe\">\n",
       "  <thead>\n",
       "    <tr style=\"text-align: right;\">\n",
       "      <th></th>\n",
       "      <th>Código</th>\n",
       "      <th>Ação</th>\n",
       "      <th>Tipo</th>\n",
       "      <th>Qtde. Teórica</th>\n",
       "      <th>Part. (%)</th>\n",
       "      <th>Date</th>\n",
       "    </tr>\n",
       "  </thead>\n",
       "  <tbody>\n",
       "    <tr>\n",
       "      <th>0</th>\n",
       "      <td>ALOS3</td>\n",
       "      <td>ALLOS</td>\n",
       "      <td>ON NM</td>\n",
       "      <td>476.976.044</td>\n",
       "      <td>0,439</td>\n",
       "      <td>2025-03-17</td>\n",
       "    </tr>\n",
       "    <tr>\n",
       "      <th>1</th>\n",
       "      <td>ABEV3</td>\n",
       "      <td>AMBEV S/A</td>\n",
       "      <td>ON ED</td>\n",
       "      <td>4.394.835.131</td>\n",
       "      <td>2,867</td>\n",
       "      <td>2025-03-17</td>\n",
       "    </tr>\n",
       "    <tr>\n",
       "      <th>2</th>\n",
       "      <td>ASAI3</td>\n",
       "      <td>ASSAI</td>\n",
       "      <td>ON NM</td>\n",
       "      <td>1.345.832.968</td>\n",
       "      <td>0,491</td>\n",
       "      <td>2025-03-17</td>\n",
       "    </tr>\n",
       "    <tr>\n",
       "      <th>3</th>\n",
       "      <td>AURE3</td>\n",
       "      <td>AUREN</td>\n",
       "      <td>ON NM</td>\n",
       "      <td>323.738.747</td>\n",
       "      <td>0,119</td>\n",
       "      <td>2025-03-17</td>\n",
       "    </tr>\n",
       "    <tr>\n",
       "      <th>4</th>\n",
       "      <td>AMOB3</td>\n",
       "      <td>AUTOMOB</td>\n",
       "      <td>ON NM</td>\n",
       "      <td>533.959.816</td>\n",
       "      <td>0,007</td>\n",
       "      <td>2025-03-17</td>\n",
       "    </tr>\n",
       "  </tbody>\n",
       "</table>\n",
       "</div>"
      ],
      "text/plain": [
       "  Código       Ação   Tipo  Qtde. Teórica Part. (%)        Date\n",
       "0  ALOS3      ALLOS  ON NM    476.976.044     0,439  2025-03-17\n",
       "1  ABEV3  AMBEV S/A  ON ED  4.394.835.131     2,867  2025-03-17\n",
       "2  ASAI3      ASSAI  ON NM  1.345.832.968     0,491  2025-03-17\n",
       "3  AURE3      AUREN  ON NM    323.738.747     0,119  2025-03-17\n",
       "4  AMOB3    AUTOMOB  ON NM    533.959.816     0,007  2025-03-17"
      ]
     },
     "execution_count": 43,
     "metadata": {},
     "output_type": "execute_result"
    }
   ],
   "source": [
    "df.head()"
   ]
  },
  {
   "cell_type": "markdown",
   "id": "ad4a910a",
   "metadata": {},
   "source": [
    "### TRYING TO SCRAPE ALL PAGES"
   ]
  },
  {
   "cell_type": "code",
   "execution_count": 44,
   "id": "797c778d",
   "metadata": {},
   "outputs": [
    {
     "name": "stdout",
     "output_type": "stream",
     "text": [
      "Total pages to scrape: 5\n"
     ]
    }
   ],
   "source": [
    "# Function to get the total number of pages\n",
    "def get_total_pages(driver):\n",
    "    pagination_element = WebDriverWait(driver, 10).until(\n",
    "        EC.presence_of_element_located((By.XPATH, \"//ul[@class='ngx-pagination']\"))\n",
    "    )\n",
    "    pages = pagination_element.find_elements(By.TAG_NAME, \"li\")\n",
    "    last_page_text = pages[-2].text.strip()\n",
    "    total_pages = int(''.join(filter(str.isdigit, last_page_text)))  # Clean and convert\n",
    "    return total_pages\n",
    "\n",
    "# Initialize an empty list to store data from all pages\n",
    "all_data = []\n",
    "\n",
    "# Get the total number of pages\n",
    "total_pages = get_total_pages(driver)\n",
    "print(f\"Total pages to scrape: {total_pages}\")"
   ]
  },
  {
   "cell_type": "code",
   "execution_count": null,
   "id": "2176a9af",
   "metadata": {},
   "outputs": [
    {
     "name": "stdout",
     "output_type": "stream",
     "text": [
      "Scraping page 1...\n",
      "Scraping page 2...\n",
      "Scraping page 3...\n",
      "Scraping page 4...\n",
      "Scraping page 5...\n",
      "Data saved: Parquet: data\\ibovespa_2025-03-17.parquet, CSV: data\\ibovespa_2025-03-17.csv\n"
     ]
    }
   ],
   "source": [
    "# Loop through all pages\n",
    "page = 0\n",
    "for page_number in range(1, total_pages + 1):\n",
    "    page = page_number\n",
    "    print(f\"Scraping page {page_number}...\")\n",
    "\n",
    "    # Locate the table on the current page\n",
    "    table = container.find_element(By.TAG_NAME, \"table\")\n",
    "    thead = table.find_element(By.TAG_NAME, \"thead\")\n",
    "    tbody = table.find_element(By.TAG_NAME, \"tbody\")\n",
    "    tfoot = table.find_element(By.TAG_NAME, \"tfoot\")\n",
    "    \n",
    "    #locate rows inside TBody\n",
    "    rows = tbody.find_elements(By.TAG_NAME, \"tr\")\n",
    "    \n",
    "    # Extract headers (only on the first iteration) and prepare the code to get footer content\n",
    "    if page_number == 1:\n",
    "        rowheader = thead.find_elements(By.TAG_NAME, \"tr\")\n",
    "        headers = [header.text.replace(\"Qtde. Teórica\",\"Qtde\").replace(\"Part. (%)\",\"Part\").replace(\"Código\",\"Codigo\").replace(\"Ação\",\"Acao\")  \n",
    "                   for header in rowheader[0].find_elements(By.TAG_NAME, \"th\")]\n",
    "        rowfooter = tfoot.find_elements(By.TAG_NAME, \"tr\")\n",
    "\n",
    "    # Extract row data\n",
    "    for row in rows[1:]:\n",
    "        cols = row.find_elements(By.TAG_NAME, \"td\")\n",
    "        all_data.append([col.text for col in cols])\n",
    "    \n",
    "    # Go to the next page if not on the last one\n",
    "    if page_number < total_pages:\n",
    "        element = driver.find_element(By.XPATH, \"//li[contains(@class, 'pagination-next')]/a\")\n",
    "        element.click();\n",
    "        time.sleep(10);\n",
    "\n",
    "# Attach footer content to the all_data array\n",
    "#for rowf in rowfooter:\n",
    "#    colsf = rowf.find_elements(By.TAG_NAME, \"td\")\n",
    "#    all_data.append([col.text for col in colsf])\n",
    "\n",
    "# Convert collected data to a Pandas DataFrame\n",
    "df = pd.DataFrame(all_data, columns=headers)\n",
    "\n",
    "# Add the extracted date to the DataFrame\n",
    "df[\"Data\"] = formatted_date\n",
    "\n",
    "# Save the DataFrame to a Parquet file and a CSV file\n",
    "parquet_file_name = f\"data\\\\ibovespa_{formatted_date}.parquet\"\n",
    "df.to_parquet(parquet_file_name, engine=\"pyarrow\", index=False)\n",
    "\n",
    "csv_file_name = parquet_file_name.replace(\".parquet\", \".csv\")\n",
    "df.to_csv(csv_file_name, index=False, encoding=\"utf-8\")\n",
    "\n",
    "print(f\"Data saved: Parquet: {parquet_file_name}, CSV: {csv_file_name}\")"
   ]
  },
  {
   "cell_type": "code",
   "execution_count": null,
   "id": "0611d287",
   "metadata": {},
   "outputs": [],
   "source": []
  }
 ],
 "metadata": {
  "kernelspec": {
   "display_name": "venv",
   "language": "python",
   "name": "python3"
  },
  "language_info": {
   "codemirror_mode": {
    "name": "ipython",
    "version": 3
   },
   "file_extension": ".py",
   "mimetype": "text/x-python",
   "name": "python",
   "nbconvert_exporter": "python",
   "pygments_lexer": "ipython3",
   "version": "3.13.1"
  }
 },
 "nbformat": 4,
 "nbformat_minor": 5
}
